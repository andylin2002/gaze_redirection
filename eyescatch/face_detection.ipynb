{
 "cells": [
  {
   "cell_type": "markdown",
   "metadata": {},
   "source": [
    "\n",
    "載入相關函式庫\n"
   ]
  },
  {
   "cell_type": "code",
   "execution_count": 1,
   "metadata": {},
   "outputs": [
    {
     "ename": "ModuleNotFoundError",
     "evalue": "No module named 'numpy'",
     "output_type": "error",
     "traceback": [
      "\u001b[0;31m---------------------------------------------------------------------------\u001b[0m",
      "\u001b[0;31mModuleNotFoundError\u001b[0m                       Traceback (most recent call last)",
      "Cell \u001b[0;32mIn[1], line 7\u001b[0m\n\u001b[1;32m      5\u001b[0m \u001b[38;5;66;03m# Utilities相關函式庫\u001b[39;00m\n\u001b[1;32m      6\u001b[0m \u001b[38;5;28;01mimport\u001b[39;00m \u001b[38;5;21;01mos\u001b[39;00m\n\u001b[0;32m----> 7\u001b[0m \u001b[38;5;28;01mimport\u001b[39;00m \u001b[38;5;21;01mnumpy\u001b[39;00m \u001b[38;5;28;01mas\u001b[39;00m \u001b[38;5;21;01mnp\u001b[39;00m\n\u001b[1;32m      9\u001b[0m \u001b[38;5;66;03m# 圖像處理/展現的相關函式庫\u001b[39;00m\n\u001b[1;32m     10\u001b[0m \u001b[38;5;28;01mimport\u001b[39;00m \u001b[38;5;21;01mdlib\u001b[39;00m\n",
      "\u001b[0;31mModuleNotFoundError\u001b[0m: No module named 'numpy'"
     ]
    }
   ],
   "source": [
    "# 把一些警告的訊息暫時関掉\n",
    "import warnings\n",
    "warnings.filterwarnings('ignore')\n",
    "\n",
    "# Utilities相關函式庫\n",
    "import os\n",
    "import numpy as np\n",
    "\n",
    "# 圖像處理/展現的相關函式庫\n",
    "import dlib\n",
    "from PIL import Image, ImageDraw, ImageFont\n",
    "import matplotlib.pyplot as plt"
   ]
  },
  {
   "cell_type": "markdown",
   "metadata": {},
   "source": [
    "\n",
    "設定相關設定與參數\n"
   ]
  },
  {
   "cell_type": "code",
   "execution_count": null,
   "metadata": {},
   "outputs": [],
   "source": [
    "# 專案的根目錄路徑\n",
    "ROOT_DIR = os.getcwd()\n",
    "\n",
    "# 訓練/驗證用的資料目錄\n",
    "DATA_PATH = os.path.join(ROOT_DIR, \"data\")\n",
    "\n",
    "# 模型資料目錄\n",
    "MODEL_PATH = os.path.join(ROOT_DIR, \"model\")\n",
    "\n",
    "MODEL_FILE_PATH = os.path.join(MODEL_PATH, \"shape_predictor_68_face_landmarks.dat\")\n",
    "\n",
    "# 測試用圖像\n",
    "TEST_IMAGE = os.path.join(DATA_PATH, \"kid.jpg\")"
   ]
  },
  {
   "cell_type": "markdown",
   "metadata": {},
   "source": [
    "步驟1：定位圖像中的臉部邊界框"
   ]
  },
  {
   "cell_type": "code",
   "execution_count": null,
   "metadata": {},
   "outputs": [],
   "source": [
    "# 使用dlib自帶的frontal_face_detector作為我們的人臉偵測器\n",
    "face_detector = dlib.get_frontal_face_detector()\n",
    "\n",
    "# 載入圖像檔\n",
    "image = Image.open(TEST_IMAGE)\n",
    "\n",
    "# 把PIL.Image的物作轉換成numpy ndarray\n",
    "img = np.array(image)"
   ]
  },
  {
   "cell_type": "code",
   "execution_count": null,
   "metadata": {},
   "outputs": [],
   "source": [
    "# 使用檢測器進行人臉檢測dets為返回的結果\n",
    "# 第二個參數中的1表示把原始圖像變大，讓演算法能夠發現更多的人臉。\n",
    "dets = face_detector(img, 0) # 因為測試的圖像己經很大了, 因此我們不啟動upsampling\n",
    "\n",
    "# dets的元素個數即為偵測到臉的個數\n",
    "print(\"Number of faces detected: {}\".format(len(dets)))"
   ]
  },
  {
   "cell_type": "code",
   "execution_count": null,
   "metadata": {},
   "outputs": [],
   "source": [
    "# 複製原始圖像\n",
    "image_copy = image.copy()\n",
    "\n",
    "# 在image_copy圖像上繪圖\n",
    "img_draw = ImageDraw.Draw(image_copy)\n",
    "\n",
    "# 迭代每一個偵測出來的邊界框\n",
    "# left：人臉左邊距離圖片左邊界的距離; right：人臉右邊距離圖片左邊界的距離\n",
    "# top：人臉上邊距離圖片上邊界的距離; bottom：人臉下邊距離圖片上邊界的距離\n",
    "for i, d in enumerate(dets):\n",
    "    x1 = d.left()\n",
    "    y1 = d.top()\n",
    "    x2 = d.right()\n",
    "    y2 = d.bottom()\n",
    "    \n",
    "    print(\"Detection {}: Left: {} Top: {} Right: {} Bottom: {}\"\n",
    "        .format( i, d.left(), d.top(), d.right(), d.bottom()))\n",
    "    \n",
    "    # 透過畫線來畫一個四方框的框線並控制粗細\n",
    "    img_draw.line([(x1,y1),(x2,y1),(x2,y2),(x1,y2),(x1,y1)], fill='#00FF00', width=4)\n",
    "    \n",
    "plt.figure(figsize=(20,10))\n",
    "plt.imshow(image_copy); plt.show()"
   ]
  },
  {
   "cell_type": "markdown",
   "metadata": {},
   "source": [
    "標出眼睛的點"
   ]
  },
  {
   "cell_type": "code",
   "execution_count": null,
   "metadata": {},
   "outputs": [],
   "source": [
    "image_copy = image.copy()\n",
    "# 獲取左眼和右眼的特徵點位置\n",
    "left_eye_points = [(landmarks.part(n).x, landmarks.part(n).y) for n in range(36, 42)]\n",
    "right_eye_points = [(landmarks.part(n).x, landmarks.part(n).y) for n in range(42, 48)]\n",
    "# 將特徵點繪製在圖片上\n",
    "for point in left_eye_points:\n",
    "    plt.plot(point[0], point[1], 'bo', markersize=2) # 左眼用藍色的點\n",
    "\n",
    "for point in right_eye_points:\n",
    "    plt.plot(point[0], point[1], 'ro', markersize=2)  # 右眼用紅色的點\n",
    "\n",
    "# 顯示圖片\n",
    "plt.imshow(image)\n",
    "plt.axis('off')  # 關閉座標軸\n",
    "plt.show()\n"
   ]
  },
  {
   "cell_type": "markdown",
   "metadata": {},
   "source": [
    "匡出眼睛"
   ]
  },
  {
   "cell_type": "code",
   "execution_count": null,
   "metadata": {},
   "outputs": [],
   "source": [
    "predictor = dlib.shape_predictor(MODEL_FILE_PATH)  # 使用您設定的模型路徑\n",
    "image_copy = image.copy()\n",
    "img_draw_eyes = ImageDraw.Draw(image_copy)\n",
    "\n",
    "# 遍歷每個偵測到的人臉\n",
    "for i, d in enumerate(dets):\n",
    "    x1 = d.left()\n",
    "    y1 = d.top()\n",
    "    x2 = d.right()\n",
    "    y2 = d.bottom()\n",
    "    \n",
    "    print(\"Detection {}: Left: {} Top: {} Right: {} Bottom: {}\"\n",
    "          .format(i, d.left(), d.top(), d.right(), d.bottom()))\n",
    "    \n",
    "    # 使用 Dlib 的特徵點偵測器\n",
    "    landmarks = predictor(img, d)\n",
    "\n",
    "    # 獲取左眼和右眼的特徵點位置\n",
    "    left_eye_points = [(landmarks.part(n).x, landmarks.part(n).y) for n in range(36, 42)]\n",
    "    right_eye_points = [(landmarks.part(n).x, landmarks.part(n).y) for n in range(42, 48)]\n",
    "\n",
    "    # 計算眼睛區域的邊界框\n",
    "    left_eye_x1 = min([p[0] for p in left_eye_points])\n",
    "    left_eye_y1 = min([p[1] for p in left_eye_points])\n",
    "    left_eye_x2 = max([p[0] for p in left_eye_points])\n",
    "    left_eye_y2 = max([p[1] for p in left_eye_points])\n",
    "\n",
    "    right_eye_x1 = min([p[0] for p in right_eye_points])\n",
    "    right_eye_y1 = min([p[1] for p in right_eye_points])\n",
    "    right_eye_x2 = max([p[0] for p in right_eye_points])\n",
    "    right_eye_y2 = max([p[1] for p in right_eye_points])\n",
    "\n",
    "    # 計算正方形的邊長，以長邊為主，並放大1.5倍\n",
    "    left_eye_width = left_eye_x2 - left_eye_x1\n",
    "    left_eye_height = left_eye_y2 - left_eye_y1\n",
    "    left_eye_size = int(1.5 * max(left_eye_width, left_eye_height))\n",
    "\n",
    "    right_eye_width = right_eye_x2 - right_eye_x1\n",
    "    right_eye_height = right_eye_y2 - right_eye_y1\n",
    "    right_eye_size = int(1.5 * max(right_eye_width, right_eye_height))\n",
    "\n",
    "    # 更新左眼和右眼的邊界框，使其為放大1.5倍的正方形，並保持中心不變\n",
    "    left_eye_center_x = (left_eye_x1 + left_eye_x2) // 2\n",
    "    left_eye_center_y = (left_eye_y1 + left_eye_y2) // 2\n",
    "    left_eye_x1 = left_eye_center_x - left_eye_size // 2\n",
    "    left_eye_x2 = left_eye_center_x + left_eye_size // 2\n",
    "    left_eye_y1 = left_eye_center_y - left_eye_size // 2\n",
    "    left_eye_y2 = left_eye_center_y + left_eye_size // 2\n",
    "\n",
    "    right_eye_center_x = (right_eye_x1 + right_eye_x2) // 2\n",
    "    right_eye_center_y = (right_eye_y1 + right_eye_y2) // 2\n",
    "    right_eye_x1 = right_eye_center_x - right_eye_size // 2\n",
    "    right_eye_x2 = right_eye_center_x + right_eye_size // 2\n",
    "    right_eye_y1 = right_eye_center_y - right_eye_size // 2\n",
    "    right_eye_y2 = right_eye_center_y + right_eye_size // 2\n",
    "\n",
    "    # 在左眼和右眼位置畫出框線\n",
    "    img_draw_eyes.rectangle([left_eye_x1, left_eye_y1, left_eye_x2, left_eye_y2], outline=\"red\", width=3)\n",
    "    img_draw_eyes.rectangle([right_eye_x1, right_eye_y1, right_eye_x2, right_eye_y2], outline=\"red\", width=3)\n",
    "\n",
    "# 顯示結果\n",
    "plt.figure(figsize=(20, 10))\n",
    "plt.imshow(image_copy)\n",
    "plt.axis(\"off\")\n",
    "plt.show()\n"
   ]
  },
  {
   "cell_type": "markdown",
   "metadata": {},
   "source": [
    "調整一下眼睛大小（64*64）"
   ]
  },
  {
   "cell_type": "code",
   "execution_count": null,
   "metadata": {},
   "outputs": [],
   "source": [
    "# 複製原始圖像\n",
    "image_copy = image.copy()\n",
    "# 將 PIL 圖像轉換為 OpenCV 的 NumPy 陣列格式\n",
    "image_np = np.array(image_copy)\n",
    "# 假設我們已經從 Dlib 得到左眼和右眼的邊界框座標\n",
    "left_eye = image.crop((left_eye_x1, left_eye_y1, left_eye_x2, left_eye_y2))\n",
    "right_eye = image.crop((right_eye_x1, right_eye_y1, right_eye_x2, right_eye_y2))\n",
    "\n",
    "# 將左眼和右眼的圖像大小調整為校正模型的輸入大小，例如 64x64\n",
    "left_eye_resized = left_eye.resize((64, 64))\n",
    "right_eye_resized = right_eye.resize((64, 64))\n",
    "\n",
    "# 顯示調整大小後的圖像\n",
    "# 使用 matplotlib 在 Notebook 中顯示調整大小後的眼睛\n",
    "fig, axes = plt.subplots(1, 2, figsize=(5, 5))\n",
    "axes[0].imshow(left_eye_resized)\n",
    "axes[0].set_title(\"Left Eye (64x64)\")\n",
    "axes[0].axis(\"off\")\n",
    "\n",
    "axes[1].imshow(right_eye_resized)\n",
    "axes[1].set_title(\"Right Eye (64x64)\")\n",
    "axes[1].axis(\"off\")\n",
    "\n",
    "plt.show()\n"
   ]
  },
  {
   "cell_type": "markdown",
   "metadata": {},
   "source": [
    "接下來理論上是把這兩顆眼睛丟進去眼球校正的model裡"
   ]
  },
  {
   "cell_type": "markdown",
   "metadata": {},
   "source": [
    "調整回原本大小的眼睛，並透過cv2.seamlessClone讓貼回去的眼鏡是看起來正常的"
   ]
  },
  {
   "cell_type": "code",
   "execution_count": null,
   "metadata": {},
   "outputs": [],
   "source": [
    "import cv2\n",
    "# 將調整過的眼睛圖像轉換回 NumPy 格式\n",
    "left_eye_corrected_np = np.array(left_eye_resized)\n",
    "right_eye_corrected_np = np.array(right_eye_resized)\n",
    "\n",
    "# 調整回原始大小\n",
    "left_eye_corrected_resized = cv2.resize(left_eye_corrected_np, (left_eye_x2 - left_eye_x1, left_eye_y2 - left_eye_y1))\n",
    "right_eye_corrected_resized = cv2.resize(right_eye_corrected_np, (right_eye_x2 - right_eye_x1, right_eye_y2 - right_eye_y1))\n",
    "\n",
    "# 創建遮罩，白色區域代表融合的區域\n",
    "left_eye_mask = 255 * np.ones(left_eye_corrected_resized.shape, left_eye_corrected_resized.dtype)\n",
    "right_eye_mask = 255 * np.ones(right_eye_corrected_resized.shape, right_eye_corrected_resized.dtype)\n",
    "\n",
    "# 定義中心點\n",
    "left_eye_center = ((left_eye_x1 + left_eye_x2) // 2, (left_eye_y1 + left_eye_y2) // 2)\n",
    "right_eye_center = ((right_eye_x1 + right_eye_x2) // 2, (right_eye_y1 + right_eye_y2) // 2)\n",
    "\n",
    "# 使用 cv2.seamlessClone 進行無縫融合\n",
    "image_np = cv2.seamlessClone(left_eye_corrected_resized, image_np, left_eye_mask, left_eye_center, cv2.NORMAL_CLONE)\n",
    "image_np = cv2.seamlessClone(right_eye_corrected_resized, image_np, right_eye_mask, right_eye_center, cv2.NORMAL_CLONE)\n",
    "\n",
    "# 將結果轉回 PIL 格式以便顯示\n",
    "output_image = Image.fromarray(image_np)\n",
    "\n",
    "# 顯示結果\n",
    "plt.figure(figsize=(20, 10))\n",
    "plt.imshow(output_image)\n",
    "plt.axis(\"off\")\n",
    "plt.show()"
   ]
  }
 ],
 "metadata": {
  "kernelspec": {
   "display_name": "Python 3",
   "language": "python",
   "name": "python3"
  },
  "language_info": {
   "codemirror_mode": {
    "name": "ipython",
    "version": 3
   },
   "file_extension": ".py",
   "mimetype": "text/x-python",
   "name": "python",
   "nbconvert_exporter": "python",
   "pygments_lexer": "ipython3",
   "version": "3.12.4"
  }
 },
 "nbformat": 4,
 "nbformat_minor": 2
}
